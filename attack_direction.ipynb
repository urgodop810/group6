{
 "cells": [
  {
   "cell_type": "code",
   "execution_count": null,
   "metadata": {},
   "outputs": [],
   "source": [
    "import numpy as np\n",
    "import pandas as pd\n",
    "from statsbombpy import sb\n",
    "import networkx as nx"
   ]
  },
  {
   "cell_type": "code",
   "execution_count": 82,
   "metadata": {},
   "outputs": [
    {
     "name": "stderr",
     "output_type": "stream",
     "text": [
      "/opt/anaconda3/lib/python3.8/site-packages/statsbombpy/api_client.py:20: NoAuthWarning: credentials were not supplied. open data access only\n",
      "  warnings.warn(\"credentials were not supplied. open data access only\", NoAuthWarning)\n"
     ]
    }
   ],
   "source": [
    "#Import competition data to find season we are interested in: La Liga - 2020/2021\n",
    "competition_df = sb.competitions()\n",
    "season = competition_df[ (competition_df.competition_name == 'La Liga') & (competition_df.season_name == '2020/2021') ]"
   ]
  },
  {
   "cell_type": "code",
   "execution_count": 83,
   "metadata": {},
   "outputs": [
    {
     "data": {
      "text/plain": [
       "Index(['ball_receipt_outcome', 'ball_recovery_recovery_failure',\n",
       "       'block_deflection', 'block_offensive', 'carry_end_location',\n",
       "       'clearance_aerial_won', 'clearance_body_part', 'clearance_head',\n",
       "       'clearance_left_foot', 'clearance_other', 'clearance_right_foot',\n",
       "       'counterpress', 'dribble_nutmeg', 'dribble_outcome', 'dribble_overrun',\n",
       "       'duel_outcome', 'duel_type', 'duration', 'foul_committed_advantage',\n",
       "       'foul_committed_card', 'foul_committed_penalty', 'foul_won_advantage',\n",
       "       'foul_won_defensive', 'foul_won_penalty', 'goalkeeper_body_part',\n",
       "       'goalkeeper_end_location', 'goalkeeper_outcome', 'goalkeeper_position',\n",
       "       'goalkeeper_technique', 'goalkeeper_type', 'id', 'index',\n",
       "       'interception_outcome', 'location', 'match_id', 'minute',\n",
       "       'miscontrol_aerial_won', 'off_camera', 'out', 'pass_aerial_won',\n",
       "       'pass_angle', 'pass_assisted_shot_id', 'pass_body_part', 'pass_cross',\n",
       "       'pass_end_location', 'pass_goal_assist', 'pass_height',\n",
       "       'pass_inswinging', 'pass_length', 'pass_miscommunication',\n",
       "       'pass_no_touch', 'pass_outcome', 'pass_outswinging', 'pass_recipient',\n",
       "       'pass_shot_assist', 'pass_straight', 'pass_switch', 'pass_technique',\n",
       "       'pass_through_ball', 'pass_type', 'period', 'play_pattern', 'player',\n",
       "       'player_id', 'position', 'possession', 'possession_team',\n",
       "       'possession_team_id', 'related_events', 'second', 'shot_aerial_won',\n",
       "       'shot_body_part', 'shot_deflected', 'shot_end_location',\n",
       "       'shot_freeze_frame', 'shot_key_pass_id', 'shot_one_on_one',\n",
       "       'shot_open_goal', 'shot_outcome', 'shot_statsbomb_xg', 'shot_technique',\n",
       "       'shot_type', 'substitution_outcome', 'substitution_replacement',\n",
       "       'tactics', 'team', 'timestamp', 'type', 'under_pressure'],\n",
       "      dtype='object')"
      ]
     },
     "execution_count": 83,
     "metadata": {},
     "output_type": "execute_result"
    }
   ],
   "source": [
    "#Find the matches where Barcelona played. Could be as home team or away team\n",
    "season_matches = sb.matches(competition_id = season.competition_id.iloc[0],season_id = season.season_id.iloc[0])\n",
    "barcelona_matches = season_matches[ (season_matches.home_team == 'Barcelona') | ( season_matches.away_team == 'Barcelona') ]\n",
    "#Note that matches are not in date order\n",
    "sb.events(barcelona_matches.match_id[0]).columns"
   ]
  },
  {
   "cell_type": "code",
   "execution_count": 143,
   "metadata": {},
   "outputs": [
    {
     "name": "stderr",
     "output_type": "stream",
     "text": [
      "/opt/anaconda3/lib/python3.8/site-packages/statsbombpy/api_client.py:20: NoAuthWarning: credentials were not supplied. open data access only\n",
      "  warnings.warn(\"credentials were not supplied. open data access only\", NoAuthWarning)\n"
     ]
    },
    {
     "data": {
      "text/plain": [
       "3868    28\n",
       "3869    31\n",
       "3870    37\n",
       "4336    29\n",
       "4337    40\n",
       "4338    40\n",
       "4390    26\n",
       "4443    26\n",
       "4569    25\n",
       "Name: second, dtype: int64"
      ]
     },
     "execution_count": 143,
     "metadata": {},
     "output_type": "execute_result"
    }
   ],
   "source": [
    "shot_minute = pd.DataFrame()\n",
    "\n",
    "#Iterates through each match and finds the barca shots, records the minute, second and what possesion it was in\n",
    "for match_id_iter in barcelona_matches.match_id[0:1]:\n",
    "    match_iter = sb.events(match_id=match_id_iter)\n",
    "    shots = match_iter[(match_iter.type == 'Shot') & (match_iter.team == 'Barcelona')]\n",
    "    shot_minute = pd.concat([shot_minute, shots[['minute','second','possession']]], ignore_index=True)\n",
    "    #Creates new data frames, dont know if this is necessary\n",
    "    previous_events = pd.DataFrame()\n",
    "    ten_previous_events = pd.DataFrame()\n",
    "    #Iterates through each shot event and find the events in an entire minute previous, ONLY COUNTS THE EVENTS IF THEY WERE IN THE SAME 'POSSESSION'\n",
    "    for i,row in shot_minute.iterrows():\n",
    "        \n",
    "        previous_events = match_iter[(((match_iter.minute == row.minute) & (match_iter.second <= row.second )) | ((match_iter.minute == (row.minute - 1)) & (match_iter.second >= row.second ))) & (match_iter.possession == row.possession)]\n",
    "        #Finding length of this list to allow for loop\n",
    "        pe_length = len(previous_events.index)\n",
    "        #For loop finds the last x events unless the previous events have less than x entries\n",
    "        x = 10\n",
    "        if pe_length< x:\n",
    "            ten_previous_events = previous_events.iloc[pe_length:-1]\n",
    "        else:\n",
    "            ten_previous_events = previous_events.iloc[-x:-1]\n",
    "\n",
    "        #I dont know where its gone to shit but it has\n",
    "        # the timestamps are out of order for each set of previous events\n",
    " \n",
    "        \n",
    "        blah = ten_previous_events.minute\n",
    "        ble = ten_previous_events.second\n",
    "        \n",
    "    \n",
    "\n",
    "\n",
    "\n",
    "\n",
    "blah\n",
    "ble\n",
    "# goal_minute"
   ]
  },
  {
   "cell_type": "code",
   "execution_count": 156,
   "metadata": {},
   "outputs": [
    {
     "name": "stdout",
     "output_type": "stream",
     "text": [
      "0       00:00:00.000\n",
      "1       00:00:00.000\n",
      "2       00:00:00.000\n",
      "3       00:00:00.000\n",
      "4       00:00:00.000\n",
      "            ...     \n",
      "4801    00:22:29.142\n",
      "4802    00:24:19.938\n",
      "4803    00:32:54.863\n",
      "4804    00:33:20.116\n",
      "4805    00:34:14.928\n",
      "Name: timestamp, Length: 4806, dtype: object\n"
     ]
    }
   ],
   "source": [
    "\n",
    "\n"
   ]
  }
 ],
 "metadata": {
  "interpreter": {
   "hash": "aee8b7b246df8f9039afb4144a1f6fd8d2ca17a180786b69acc140d282b71a49"
  },
  "kernelspec": {
   "display_name": "Python 3.9.1 64-bit",
   "language": "python",
   "name": "python3"
  },
  "language_info": {
   "codemirror_mode": {
    "name": "ipython",
    "version": 3
   },
   "file_extension": ".py",
   "mimetype": "text/x-python",
   "name": "python",
   "nbconvert_exporter": "python",
   "pygments_lexer": "ipython3",
   "version": "3.8.3"
  },
  "orig_nbformat": 4
 },
 "nbformat": 4,
 "nbformat_minor": 2
}
