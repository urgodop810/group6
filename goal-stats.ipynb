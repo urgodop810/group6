{
 "cells": [
  {
   "cell_type": "code",
   "execution_count": 1,
   "metadata": {},
   "outputs": [],
   "source": [
    "import pandas\n",
    "import numpy\n",
    "import json"
   ]
  },
  {
   "cell_type": "code",
   "execution_count": 2,
   "metadata": {},
   "outputs": [],
   "source": [
    "with open('../Statsbomb/data/competitions.json') as file:\n",
    "    competitions_list = json.load(file)\n",
    "    file.close()"
   ]
  },
  {
   "cell_type": "code",
   "execution_count": 3,
   "metadata": {},
   "outputs": [
    {
     "name": "stdout",
     "output_type": "stream",
     "text": [
      "season_id: 90\n",
      "competition_id: 11\n"
     ]
    }
   ],
   "source": [
    "for competition in competitions_list:\n",
    "    if competition['competition_name'] == \"La Liga\":\n",
    "        if competition['season_name'] == \"2020/2021\":\n",
    "            season_id = competition['season_id']\n",
    "            print(\"season_id:\" , season_id)\n",
    "            competition_id = competition['competition_id']\n",
    "            print(\"competition_id:\" , competition_id)"
   ]
  },
  {
   "cell_type": "code",
   "execution_count": 4,
   "metadata": {},
   "outputs": [],
   "source": [
    "with open('../Statsbomb/data/matches/'+str(competition_id)+'/'+str(season_id)+'.json',encoding='utf') as f:\n",
    "    matches = json.load(f)\n",
    "    f.close()"
   ]
  },
  {
   "cell_type": "code",
   "execution_count": 5,
   "metadata": {},
   "outputs": [],
   "source": [
    "Team_required =\"Barcelona\"\n",
    "\n",
    "matchIDs = []\n",
    "for match in matches:\n",
    "    home_team_name=match['home_team']['home_team_name']\n",
    "    away_team_name=match['away_team']['away_team_name']\n",
    "    if (home_team_name==Team_required) or (away_team_name==Team_required):\n",
    "        matchIDs.append(match['match_id'])"
   ]
  },
  {
   "cell_type": "code",
   "execution_count": 6,
   "metadata": {},
   "outputs": [],
   "source": [
    "goalsScored = []\n",
    "goalsConceded = []\n",
    "for match in matchIDs:        \n",
    "    with open('../Statsbomb/data/events/' + str(match) + '.json',encoding='utf') as file:\n",
    "        events = json.load(file)\n",
    "        for event in events:\n",
    "            if event[\"type\"][\"name\"] == \"Shot\":\n",
    "                if event[\"shot\"]['outcome']['name'] == \"Goal\":\n",
    "                    if event[\"possession_team\"][\"name\"] == \"Barcelona\" :\n",
    "                        goalsScored.append(event)\n",
    "                    else :\n",
    "                        goalsConceded.append(event)         \n",
    "    file.close()"
   ]
  },
  {
   "cell_type": "code",
   "execution_count": 12,
   "metadata": {},
   "outputs": [
    {
     "data": {
      "text/plain": [
       "{'id': 'b7a7c0f4-ce40-4692-ab66-5c5761c9b21a',\n",
       " 'index': 1979,\n",
       " 'period': 1,\n",
       " 'timestamp': '00:34:44.133',\n",
       " 'minute': 34,\n",
       " 'second': 44,\n",
       " 'type': {'id': 16, 'name': 'Shot'},\n",
       " 'possession': 73,\n",
       " 'possession_team': {'id': 217, 'name': 'Barcelona'},\n",
       " 'play_pattern': {'id': 1, 'name': 'Regular Play'},\n",
       " 'team': {'id': 217, 'name': 'Barcelona'},\n",
       " 'player': {'id': 5487, 'name': 'Antoine Griezmann'},\n",
       " 'position': {'id': 20, 'name': 'Left Attacking Midfield'},\n",
       " 'location': [95.5, 40.7],\n",
       " 'duration': 1.016924,\n",
       " 'related_events': ['a3780819-1c08-4212-bef3-a745fd759f40'],\n",
       " 'shot': {'statsbomb_xg': 0.033182003,\n",
       "  'end_location': [120.0, 37.1, 2.0],\n",
       "  'key_pass_id': 'b2823949-26bc-4faa-ac7d-ecd7ff49f99d',\n",
       "  'type': {'id': 87, 'name': 'Open Play'},\n",
       "  'body_part': {'id': 38, 'name': 'Left Foot'},\n",
       "  'technique': {'id': 93, 'name': 'Normal'},\n",
       "  'outcome': {'id': 97, 'name': 'Goal'},\n",
       "  'freeze_frame': [{'location': [97.7, 21.1],\n",
       "    'player': {'id': 5211, 'name': 'Jordi Alba Ramos'},\n",
       "    'position': {'id': 8, 'name': 'Left Wing Back'},\n",
       "    'teammate': True},\n",
       "   {'location': [100.9, 34.3],\n",
       "    'player': {'id': 5477, 'name': 'Ousmane Dembélé'},\n",
       "    'position': {'id': 23, 'name': 'Center Forward'},\n",
       "    'teammate': True},\n",
       "   {'location': [99.2, 52.0],\n",
       "    'player': {'id': 5503, 'name': 'Lionel Andrés Messi Cuccittini'},\n",
       "    'position': {'id': 18, 'name': 'Right Attacking Midfield'},\n",
       "    'teammate': True},\n",
       "   {'location': [95.2, 66.0],\n",
       "    'player': {'id': 21881, 'name': 'Sergino Dest'},\n",
       "    'position': {'id': 7, 'name': 'Right Wing Back'},\n",
       "    'teammate': True},\n",
       "   {'location': [87.5, 49.9],\n",
       "    'player': {'id': 30486, 'name': 'Pedro González López'},\n",
       "    'position': {'id': 11, 'name': 'Left Defensive Midfield'},\n",
       "    'teammate': True},\n",
       "   {'location': [101.4, 26.3],\n",
       "    'player': {'id': 6564, 'name': 'Pablo Maffeo Becerra'},\n",
       "    'position': {'id': 7, 'name': 'Right Wing Back'},\n",
       "    'teammate': False},\n",
       "   {'location': [101.4, 35.7],\n",
       "    'player': {'id': 11677, 'name': 'Jorge Pulido Mayoral'},\n",
       "    'position': {'id': 3, 'name': 'Right Center Back'},\n",
       "    'teammate': False},\n",
       "   {'location': [100.0, 40.3],\n",
       "    'player': {'id': 6603, 'name': 'Dimitrios Siovas'},\n",
       "    'position': {'id': 4, 'name': 'Center Back'},\n",
       "    'teammate': False},\n",
       "   {'location': [102.3, 49.3],\n",
       "    'player': {'id': 21399, 'name': 'Pablo Ínsua Blanco'},\n",
       "    'position': {'id': 5, 'name': 'Left Center Back'},\n",
       "    'teammate': False},\n",
       "   {'location': [101.6, 57.3],\n",
       "    'player': {'id': 23322, 'name': 'Javier Galán Gil'},\n",
       "    'position': {'id': 8, 'name': 'Left Wing Back'},\n",
       "    'teammate': False},\n",
       "   {'location': [92.4, 35.1],\n",
       "    'player': {'id': 11670, 'name': 'David Ferreiro Quiroga'},\n",
       "    'position': {'id': 13, 'name': 'Right Center Midfield'},\n",
       "    'teammate': False},\n",
       "   {'location': [94.5, 46.2],\n",
       "    'player': {'id': 23307, 'name': 'Idrissa Doumbia'},\n",
       "    'position': {'id': 10, 'name': 'Center Defensive Midfield'},\n",
       "    'teammate': False},\n",
       "   {'location': [96.0, 45.4],\n",
       "    'player': {'id': 6656, 'name': 'Mikel Rico Moreno'},\n",
       "    'position': {'id': 15, 'name': 'Left Center Midfield'},\n",
       "    'teammate': False},\n",
       "   {'location': [83.1, 51.0],\n",
       "    'player': {'id': 23812, 'name': 'Rafael Mir Vicente'},\n",
       "    'position': {'id': 24, 'name': 'Left Center Forward'},\n",
       "    'teammate': False},\n",
       "   {'location': [80.6, 42.4],\n",
       "    'player': {'id': 24681, 'name': 'Daniel Escriche Romero'},\n",
       "    'position': {'id': 22, 'name': 'Right Center Forward'},\n",
       "    'teammate': False},\n",
       "   {'location': [117.3, 40.1],\n",
       "    'player': {'id': 25598, 'name': 'Álvaro Fernández Llorente'},\n",
       "    'position': {'id': 1, 'name': 'Goalkeeper'},\n",
       "    'teammate': False}]}}"
      ]
     },
     "execution_count": 12,
     "metadata": {},
     "output_type": "execute_result"
    }
   ],
   "source": [
    "goalsScored[1]\n",
    "#times = []\n",
    "#for goal in goalsScored:\n",
    " #   times.append(str(goal[\"minute\"]) + \":\" + str(goal[\"second\"]))\n",
    "#times"
   ]
  },
  {
   "cell_type": "code",
   "execution_count": null,
   "metadata": {},
   "outputs": [],
   "source": []
  }
 ],
 "metadata": {
  "kernelspec": {
   "display_name": "Python 3",
   "language": "python",
   "name": "python3"
  },
  "language_info": {
   "codemirror_mode": {
    "name": "ipython",
    "version": 3
   },
   "file_extension": ".py",
   "mimetype": "text/x-python",
   "name": "python",
   "nbconvert_exporter": "python",
   "pygments_lexer": "ipython3",
   "version": "3.8.3"
  }
 },
 "nbformat": 4,
 "nbformat_minor": 4
}
