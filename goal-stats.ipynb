{
 "cells": [
  {
   "cell_type": "code",
   "execution_count": 1,
   "metadata": {},
   "outputs": [],
   "source": [
    "import pandas\n",
    "import numpy\n",
    "import json"
   ]
  },
  {
   "cell_type": "code",
   "execution_count": 2,
   "metadata": {},
   "outputs": [],
   "source": [
    "with open('../Statsbomb/data/competitions.json') as file:\n",
    "    competitions_list = json.load(file)\n",
    "    file.close()"
   ]
  },
  {
   "cell_type": "code",
   "execution_count": 3,
   "metadata": {},
   "outputs": [
    {
     "name": "stdout",
     "output_type": "stream",
     "text": [
      "season_id: 90\n",
      "competition_id: 11\n"
     ]
    }
   ],
   "source": [
    "for competition in competitions_list:\n",
    "    if competition['competition_name'] == \"La Liga\":\n",
    "        if competition['season_name'] == \"2020/2021\":\n",
    "            season_id = competition['season_id']\n",
    "            print(\"season_id:\" , season_id)\n",
    "            competition_id = competition['competition_id']\n",
    "            print(\"competition_id:\" , competition_id)"
   ]
  },
  {
   "cell_type": "code",
   "execution_count": 4,
   "metadata": {},
   "outputs": [],
   "source": [
    "with open('../Statsbomb/data/matches/'+str(competition_id)+'/'+str(season_id)+'.json',encoding='utf') as f:\n",
    "    matches = json.load(f)\n",
    "    f.close()"
   ]
  },
  {
   "cell_type": "code",
   "execution_count": 5,
   "metadata": {},
   "outputs": [],
   "source": [
    "Team_required =\"Barcelona\"\n",
    "\n",
    "matchIDs = []\n",
    "for match in matches:\n",
    "    home_team_name=match['home_team']['home_team_name']\n",
    "    away_team_name=match['away_team']['away_team_name']\n",
    "    if (home_team_name==Team_required) or (away_team_name==Team_required):\n",
    "        matchIDs.append(match['match_id'])"
   ]
  },
  {
   "cell_type": "code",
   "execution_count": 6,
   "metadata": {},
   "outputs": [],
   "source": [
    "goalsScored = []\n",
    "goalsConceded = []\n",
    "for match in matchIDs:        \n",
    "    with open('../Statsbomb/data/events/' + str(match) + '.json',encoding='utf') as file:\n",
    "        events = json.load(file)\n",
    "        for event in events:\n",
    "            if event[\"type\"][\"name\"] == \"Shot\":\n",
    "                if event[\"shot\"]['outcome']['name'] == \"Goal\":\n",
    "                    if event[\"possession_team\"][\"name\"] == \"Barcelona\" :\n",
    "                        goalsScored.append(event)\n",
    "                    else :\n",
    "                        goalsConceded.append(event)         \n",
    "    file.close()"
   ]
  },
  {
   "cell_type": "code",
   "execution_count": 30,
   "metadata": {},
   "outputs": [
    {
     "data": {
      "text/plain": [
       "['Lionel Andrés Messi Cuccittini',\n",
       " 'Luis Jesús Rioja González',\n",
       " 'Martin Braithwaite Christensen',\n",
       " 'Álvaro Negredo Sánchez',\n",
       " 'Héctor Junior Firpo Adames',\n",
       " 'Lionel Andrés Messi Cuccittini',\n",
       " 'Antoine Griezmann']"
      ]
     },
     "execution_count": 30,
     "metadata": {},
     "output_type": "execute_result"
    }
   ],
   "source": [
    "scorers = []\n",
    "for goal in goalsScored:\n",
    "    try:\n",
    "        if goal[\"shot\"][\"open_goal\"] == True:\n",
    "            scorers.append(goal[\"player\"][\"name\"])\n",
    "    except:\n",
    "        False\n",
    "scorers"
   ]
  },
  {
   "cell_type": "code",
   "execution_count": null,
   "metadata": {},
   "outputs": [],
   "source": []
  }
 ],
 "metadata": {
  "kernelspec": {
   "display_name": "Python 3",
   "language": "python",
   "name": "python3"
  },
  "language_info": {
   "codemirror_mode": {
    "name": "ipython",
    "version": 3
   },
   "file_extension": ".py",
   "mimetype": "text/x-python",
   "name": "python",
   "nbconvert_exporter": "python",
   "pygments_lexer": "ipython3",
   "version": "3.8.3"
  }
 },
 "nbformat": 4,
 "nbformat_minor": 4
}
