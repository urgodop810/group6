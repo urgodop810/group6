{
 "cells": [
  {
   "cell_type": "code",
   "execution_count": 11,
   "metadata": {},
   "outputs": [],
   "source": [
    "import pandas\n",
    "import numpy\n",
    "import json\n",
    "from xT import xT"
   ]
  },
  {
   "cell_type": "code",
   "execution_count": 12,
   "metadata": {},
   "outputs": [],
   "source": [
    "with open('../Statsbomb/data/competitions.json') as file:\n",
    "    competitions_list = json.load(file)\n",
    "    file.close()"
   ]
  },
  {
   "cell_type": "code",
   "execution_count": 13,
   "metadata": {},
   "outputs": [
    {
     "name": "stdout",
     "output_type": "stream",
     "text": [
      "season_id: 90\n",
      "competition_id: 11\n"
     ]
    }
   ],
   "source": [
    "for competition in competitions_list:\n",
    "    if competition['competition_name'] == \"La Liga\":\n",
    "        if competition['season_name'] == \"2020/2021\":\n",
    "            season_id = competition['season_id']\n",
    "            print(\"season_id:\" , season_id)\n",
    "            competition_id = competition['competition_id']\n",
    "            print(\"competition_id:\" , competition_id)"
   ]
  },
  {
   "cell_type": "code",
   "execution_count": 14,
   "metadata": {},
   "outputs": [],
   "source": [
    "with open('../Statsbomb/data/matches/'+str(competition_id)+'/'+str(season_id)+'.json',encoding='utf') as f:\n",
    "    matches = json.load(f)\n",
    "    f.close()"
   ]
  },
  {
   "cell_type": "code",
   "execution_count": 15,
   "metadata": {},
   "outputs": [],
   "source": [
    "Team_required =\"Barcelona\"\n",
    "\n",
    "matchIDs = []\n",
    "for match in matches:\n",
    "    home_team_name=match['home_team']['home_team_name']\n",
    "    away_team_name=match['away_team']['away_team_name']\n",
    "    if (home_team_name==Team_required) or (away_team_name==Team_required):\n",
    "        matchIDs.append(match['match_id'])"
   ]
  },
  {
   "cell_type": "code",
   "execution_count": 32,
   "metadata": {},
   "outputs": [
    {
     "data": {
      "text/plain": [
       "{'Lionel Andrés Messi Cuccittini': 23.81225338000007,\n",
       " 'Jordi Alba Ramos': 10.97988079000002,\n",
       " 'Ousmane Dembélé': 6.402278439999996,\n",
       " 'Sergio Busquets i Burgos': 5.422392220000017,\n",
       " 'Clément Lenglet': 5.267802529999989,\n",
       " 'Frenkie de Jong': 4.581067459999993,\n",
       " 'Antoine Griezmann': 2.777358930000002,\n",
       " 'Sergino Dest': 2.679686669999989,\n",
       " 'Óscar Mingueza García': 2.4430450400000048,\n",
       " 'Sergi Roberto Carnicer': 2.026318290000003,\n",
       " 'Pedro González López': 2.0218321699999975,\n",
       " 'Gerard Piqué Bernabéu': 1.8737744199999977,\n",
       " 'Philippe Coutinho Correia': 1.7922680100000024,\n",
       " 'Anssumane Fati': 1.7687659500000008,\n",
       " 'Miralem Pjanić': 1.632630570000001,\n",
       " 'Marc-André ter Stegen': 0.7737900899999975,\n",
       " 'Ronald Federico Araújo da Silva': 0.7456351199999998,\n",
       " 'Samuel Yves Umtiti': 0.6661864700000002,\n",
       " 'Ricard Puig Martí': 0.61336465,\n",
       " 'Moriba Kourouma Kourouma': 0.5523298499999996,\n",
       " 'Héctor Junior Firpo Adames': 0.2761439599999998,\n",
       " 'Francisco António Machado Mota de Castro Trincão': 0.15380217999999996,\n",
       " 'Norberto Murara Neto': 0.09667133999999998,\n",
       " 'Carles Aleña Castillo': 0.018155429999999993,\n",
       " 'Martin Braithwaite Christensen': -0.20231261999999975}"
      ]
     },
     "execution_count": 32,
     "metadata": {},
     "output_type": "execute_result"
    }
   ],
   "source": [
    "playersxT = {}\n",
    "for match in matchIDs:        \n",
    "    with open('../Statsbomb/data/events/' + str(match) + '.json',encoding='utf') as file:\n",
    "        events = json.load(file)\n",
    "        for event in events:\n",
    "            if event[\"type\"][\"name\"] == \"Pass\":\n",
    "                try:\n",
    "                    x = event[\"pass\"][\"outcome\"]\n",
    "                except:\n",
    "                    if event[\"team\"][\"name\"] == \"Barcelona\" :\n",
    "                        value = xT(event[\"pass\"][\"end_location\"]) - xT(event[\"location\"])\n",
    "                        if event[\"player\"][\"name\"] not in playersxT.keys():\n",
    "                            playersxT[event[\"player\"][\"name\"]] = value \n",
    "                        else:\n",
    "                            playersxT[event[\"player\"][\"name\"]] += value \n",
    "            if event[\"type\"][\"name\"] == \"Carry\":\n",
    "                if event[\"team\"][\"name\"] == \"Barcelona\" :\n",
    "                    value = xT(event[\"carry\"][\"end_location\"]) - xT(event[\"location\"])\n",
    "                    if event[\"player\"][\"name\"] not in playersxT.keys():\n",
    "                        playersxT[event[\"player\"][\"name\"]] = value \n",
    "                    else:\n",
    "                        playersxT[event[\"player\"][\"name\"]] += value \n",
    "    file.close()\n",
    "\n",
    "playersxT=dict(sorted(playersxT.items(),reverse=True,key= lambda x:x[1]))\n",
    "playersxT"
   ]
  },
  {
   "cell_type": "code",
   "execution_count": 34,
   "metadata": {},
   "outputs": [],
   "source": [
    "playersxT_df = pandas.Series(playersxT)\n",
    "playersxT_df.to_csv('player_xT.csv')"
   ]
  },
  {
   "cell_type": "code",
   "execution_count": null,
   "metadata": {},
   "outputs": [],
   "source": []
  }
 ],
 "metadata": {
  "kernelspec": {
   "display_name": "Python 3",
   "language": "python",
   "name": "python3"
  },
  "language_info": {
   "codemirror_mode": {
    "name": "ipython",
    "version": 3
   },
   "file_extension": ".py",
   "mimetype": "text/x-python",
   "name": "python",
   "nbconvert_exporter": "python",
   "pygments_lexer": "ipython3",
   "version": "3.8.3"
  }
 },
 "nbformat": 4,
 "nbformat_minor": 4
}
